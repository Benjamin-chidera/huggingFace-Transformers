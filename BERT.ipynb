{
  "nbformat": 4,
  "nbformat_minor": 0,
  "metadata": {
    "colab": {
      "provenance": [],
      "authorship_tag": "ABX9TyOpQ6PjfxpIDyD2qDoFSp9V",
      "include_colab_link": true
    },
    "kernelspec": {
      "name": "python3",
      "display_name": "Python 3"
    },
    "language_info": {
      "name": "python"
    }
  },
  "cells": [
    {
      "cell_type": "markdown",
      "metadata": {
        "id": "view-in-github",
        "colab_type": "text"
      },
      "source": [
        "<a href=\"https://colab.research.google.com/github/Benjamin-chidera/huggingFace-Transformers/blob/bert/BERT.ipynb\" target=\"_parent\"><img src=\"https://colab.research.google.com/assets/colab-badge.svg\" alt=\"Open In Colab\"/></a>"
      ]
    },
    {
      "cell_type": "markdown",
      "source": [
        "### **Bert model and Tokenizer**"
      ],
      "metadata": {
        "id": "vr041e0tzXId"
      }
    },
    {
      "cell_type": "code",
      "source": [
        "from transformers import AutoTokenizer, BertForQuestionAnswering, BertTokenizer\n",
        "import torch\n",
        "\n",
        "model_name = \"bert-large-uncased-whole-word-masking-finetuned-squad\"\n",
        "\n",
        "model = BertForQuestionAnswering.from_pretrained(model_name)\n",
        "\n",
        "tokenizer = BertTokenizer.from_pretrained(model_name)"
      ],
      "metadata": {
        "colab": {
          "base_uri": "https://localhost:8080/"
        },
        "id": "ClsaJhIHzaud",
        "outputId": "fe3d1fe3-fdd7-463e-fd04-cb4b6722ca2e"
      },
      "execution_count": null,
      "outputs": [
        {
          "output_type": "stream",
          "name": "stderr",
          "text": [
            "Some weights of the model checkpoint at bert-large-uncased-whole-word-masking-finetuned-squad were not used when initializing BertForQuestionAnswering: ['bert.pooler.dense.bias', 'bert.pooler.dense.weight']\n",
            "- This IS expected if you are initializing BertForQuestionAnswering from the checkpoint of a model trained on another task or with another architecture (e.g. initializing a BertForSequenceClassification model from a BertForPreTraining model).\n",
            "- This IS NOT expected if you are initializing BertForQuestionAnswering from the checkpoint of a model that you expect to be exactly identical (initializing a BertForSequenceClassification model from a BertForSequenceClassification model).\n"
          ]
        }
      ]
    },
    {
      "cell_type": "markdown",
      "source": [
        "### **Embeddings**"
      ],
      "metadata": {
        "id": "FgaToVcm06Pw"
      }
    },
    {
      "cell_type": "code",
      "source": [
        "question = \"When was the first dvd released\"\n",
        "answer_document = \"The first DVD players were released in Japan in November 1996, followed by the United States in March 1997. The first DVDs were released in Japan on November 1, 1996.\"\n",
        "\n",
        "encoding = tokenizer.encode_plus(text=question, text_pair=answer_document)\n",
        "\n",
        "inputs = encoding['input_ids']\n",
        "\n",
        "sentence_embedding = encoding['token_type_ids']\n",
        "\n",
        "tokens = tokenizer.convert_ids_to_tokens(inputs)\n",
        "\n",
        "output = model(input_ids = torch.tensor([inputs]), token_type_ids = torch.tensor([sentence_embedding]))\n",
        "\n",
        "print(output)"
      ],
      "metadata": {
        "colab": {
          "base_uri": "https://localhost:8080/"
        },
        "id": "b7jlSDzH09l_",
        "outputId": "45fddfbd-9770-4557-bb7a-69afb897f9db"
      },
      "execution_count": null,
      "outputs": [
        {
          "output_type": "stream",
          "name": "stdout",
          "text": [
            "QuestionAnsweringModelOutput(loss=None, start_logits=tensor([[-5.1172, -7.3570, -7.5517, -7.5416, -7.4935, -8.6140, -8.3561, -5.1170,\n",
            "          2.1543,  0.9469, -0.2385, -2.3577, -3.5851, -1.0294, -2.0368,  1.6567,\n",
            "         -1.0030,  2.7018,  0.4237, -5.5459, -4.4573, -6.6199, -4.8712, -3.9833,\n",
            "         -6.1055, -4.3178, -0.2206, -1.4712, -5.1169,  2.7279,  1.3643,  0.2678,\n",
            "         -2.1396, -0.3455, -0.4393,  1.5413, -0.3198,  3.2176, -1.4881, -3.9541,\n",
            "          0.8817, -4.8051, -5.1172]], grad_fn=<CloneBackward0>), end_logits=tensor([[-0.3880, -5.9666, -6.2652, -7.0709, -6.4306, -6.5267, -7.6226, -0.3878,\n",
            "         -5.0267, -3.7565, -1.8434, -2.8587, -5.0063, -1.7291, -5.8957, -0.0479,\n",
            "         -4.7730, -3.2517,  4.2067,  0.9910, -3.1645, -5.0857, -6.5500, -5.9224,\n",
            "         -2.7593, -6.4331, -4.2120,  1.3054, -0.3875, -3.9574, -2.6114, -1.0814,\n",
            "         -3.7573, -0.5377, -5.1022,  0.7844, -3.6803, -2.4481, -0.1595, -2.8164,\n",
            "          4.5242,  3.2641, -0.3893]], grad_fn=<CloneBackward0>), hidden_states=None, attentions=None)\n"
          ]
        }
      ]
    },
    {
      "cell_type": "markdown",
      "source": [
        "### **Model Output**"
      ],
      "metadata": {
        "id": "5GrwkxYs2_6H"
      }
    },
    {
      "cell_type": "code",
      "source": [
        "start_index = torch.argmax(output.start_logits)\n",
        "\n",
        "end_index = torch.argmax(output.end_logits)\n",
        "\n",
        "answer = ' '.join(tokens[start_index:end_index+1])\n",
        "\n",
        "print(\"start_index: \", start_index)\n",
        "print(\"end_index: \", end_index)\n",
        "print(\"answer: \", answer)"
      ],
      "metadata": {
        "colab": {
          "base_uri": "https://localhost:8080/"
        },
        "id": "7onbaNg23Cml",
        "outputId": "8b3a0853-b554-4c01-b2c6-4b9e06d4db2e"
      },
      "execution_count": null,
      "outputs": [
        {
          "output_type": "stream",
          "name": "stdout",
          "text": [
            "start_index:  tensor(37)\n",
            "end_index:  tensor(40)\n",
            "answer:  november 1 , 1996\n"
          ]
        }
      ]
    }
  ]
}